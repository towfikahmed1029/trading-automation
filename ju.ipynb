{
 "cells": [
  {
   "cell_type": "code",
   "execution_count": null,
   "metadata": {},
   "outputs": [],
   "source": [
    "gmail = 'sorifultowfik404@gmail.com'\n",
    "passwd = 'gmail.com'\n",
    "signal_length = 2\n",
    "\n",
    "import undetected_chromedriver as uc \n",
    "from selenium.webdriver.common.by import By\n",
    "import time\n",
    "from bs4 import BeautifulSoup\n",
    "driver = uc.Chrome(\n",
    "    driver_executable_path='chromedriver', use_subprocess=True)\n",
    "time.sleep(2)\n",
    "login_url = 'https://www.olymptrade.com/login'\n",
    "driver.get(login_url)\n",
    "input(\"Press Enter to continue After Loading Complete...\")\n",
    "login = driver.find_element(By.XPATH, '//span[text()=\"Login\"]//parent::span//parent::span//parent::div//parent::button').click()\n",
    "driver.find_element(By.XPATH, ' //input[@name = \"email\"]').send_keys(gmail)\n",
    "driver.find_element(By.XPATH, ' //input[@name = \"password\"]').send_keys(passwd)\n",
    "input(\"Press Enter to continue After Login Complete...\")\n",
    "driver.find_element(By.XPATH, '//button[@data-test=\"signals-menu\"]').click()\n",
    "input(\"Press Enter to continue After Login SuccessFull...\")"
   ]
  },
  {
   "cell_type": "code",
   "execution_count": null,
   "metadata": {},
   "outputs": [],
   "source": [
    "def trade_click(trade_up_down):\n",
    "    print(\"trade_click\")\n",
    "    if 'down' in trade_up_down:\n",
    "        driver.find_element(By.XPATH,('//button[@data-test=\"deal-button-down\"]')).click()\n",
    "    elif 'up' in trade_up_down:\n",
    "        driver.find_element(By.XPATH,('//button[@data-test=\"deal-button-up\"]')).click()\n",
    "    \n",
    "    print(trade_up_down)\n",
    "    \n",
    "    \n",
    "def time_select(trade_time,trade_up_down):\n",
    "    print(\"time_select\")\n",
    "    input_tag = driver.find_element(By.XPATH,('//input[@data-test=\"deal-duration-input\"]'))\n",
    "    value = input_tag.get_attribute(\"value\").split(' ')[0]\n",
    "    value =int(value)\n",
    "    if value == trade_time :\n",
    "        print(1)\n",
    "        trade_click(trade_up_down)\n",
    "    elif value < trade_time:\n",
    "        print(2)\n",
    "        \n",
    "        trade_time = trade_time - value\n",
    "        for x in range(0, trade_time):\n",
    "            driver.find_element(By.XPATH,('(//button[@data-test=\"deal-form-input-step-button-increase\"])[1]')).click()\n",
    "        trade_click(trade_up_down)\n",
    "    elif value > trade_time:\n",
    "        print(3)\n",
    "        \n",
    "        trade_time = value - trade_time\n",
    "        for x in range(0, trade_time):\n",
    "            driver.find_element(By.XPATH,('(//button[@data-test=\"deal-form-input-step-button-decrease\"])[1]')).click()\n",
    "        trade_click(trade_up_down)  "
   ]
  },
  {
   "cell_type": "code",
   "execution_count": null,
   "metadata": {},
   "outputs": [],
   "source": [
    "try:\n",
    "    soup = BeautifulSoup(driver.page_source,'html.parser')\n",
    "    find_1 = soup.find(class_ = 'nQfrSgmi').parent\n",
    "    find_2 = find_1.findAll(class_=\"KXZ_4YGY\")\n",
    "except Exception as e:\n",
    "    pass\n",
    "signal_list_1_min = []\n",
    "signal_list_2_min = []\n",
    "signal_list_3_min = []\n",
    "signal_list_5_min = []\n",
    "\n",
    "if len(find_2) == 2:\n",
    "    signal = find_2[0].findAll(attrs={\"data-trans\" : \"trading_signals_advice\"})\n",
    "    for x in signal:\n",
    "        signal_txt = x.text\n",
    "        if \"1\" in signal_txt:\n",
    "            signal_list_1_min.append(signal_txt)\n",
    "        elif \"2\" in signal_txt:\n",
    "            signal_list_2_min.append(signal_txt)\n",
    "        elif \"3\" in signal_txt:\n",
    "            signal_list_3_min.append(signal_txt)\n",
    "        else:\n",
    "            signal_list_5_min.append(signal_txt)\n",
    "else:\n",
    "    print(\"No signals found\")\n",
    "    pass"
   ]
  },
  {
   "cell_type": "code",
   "execution_count": null,
   "metadata": {},
   "outputs": [],
   "source": [
    "signal_check = []\n",
    "signal_length = 1\n",
    "all_signal_list = [signal_list_1_min,signal_list_2_min,signal_list_3_min,signal_list_5_min]\n",
    "for x in all_signal_list:\n",
    "    if len(x) >= signal_length:\n",
    "        signal_check.append(x[0])\n",
    "        \n",
    "click_count = 0\n",
    "for x in signal_check:\n",
    "    print(\"Signal function\")\n",
    "    \n",
    "    trade_time = x.split(\" \")[0]\n",
    "    trade_time = int(trade_time)\n",
    "    trade_up_down = x.split(\" \")[2]\n",
    "    time_select(trade_time,trade_up_down)\n",
    "    print(x)\n",
    "    click_count +=1\n",
    "    if click_count >= 1:\n",
    "        time.sleep(20)\n",
    "        # break\n",
    "pass"
   ]
  },
  {
   "cell_type": "code",
   "execution_count": 27,
   "metadata": {},
   "outputs": [
    {
     "name": "stdout",
     "output_type": "stream",
     "text": [
      "Value 10\n",
      "3\n"
     ]
    }
   ],
   "source": [
    "trade_time=7\n",
    "# trade_up_down=\n",
    "input_tag = driver.find_element(By.XPATH,('//input[@data-test=\"deal-duration-input\"]'))\n",
    "value = input_tag.get_attribute(\"value\").split(' ')[0]\n",
    "value =int(value)\n",
    "print(\"Value\", value)\n",
    "if value == trade_time :\n",
    "    print(1)\n",
    "    trade_click(trade_up_down)\n",
    "elif value < trade_time:\n",
    "    print(2)\n",
    "    trade_time = trade_time - value\n",
    "    for x in range(0, trade_time):\n",
    "        driver.find_element(By.XPATH,('(//button[@data-test=\"deal-form-input-controls-plus\"])[2]')).click()\n",
    "    trade_click(trade_up_down)\n",
    "elif value > trade_time:\n",
    "    print(3)\n",
    "    \n",
    "    trade_time = value - trade_time\n",
    "    for x in range(0, trade_time):\n",
    "        driver.find_element(By.XPATH,('(//button[@data-test=\"deal-form-input-controls-minus\"])[2]')).click()\n",
    "    trade_click(trade_up_down)  "
   ]
  },
  {
   "cell_type": "code",
   "execution_count": 10,
   "metadata": {},
   "outputs": [
    {
     "name": "stdout",
     "output_type": "stream",
     "text": [
      "Current Time = 20:27:09\n"
     ]
    }
   ],
   "source": []
  }
 ],
 "metadata": {
  "kernelspec": {
   "display_name": "Python 3",
   "language": "python",
   "name": "python3"
  },
  "language_info": {
   "codemirror_mode": {
    "name": "ipython",
    "version": 3
   },
   "file_extension": ".py",
   "mimetype": "text/x-python",
   "name": "python",
   "nbconvert_exporter": "python",
   "pygments_lexer": "ipython3",
   "version": "3.8.10"
  },
  "orig_nbformat": 4,
  "vscode": {
   "interpreter": {
    "hash": "916dbcbb3f70747c44a77c7bcd40155683ae19c65e1c03b4aa3499c5328201f1"
   }
  }
 },
 "nbformat": 4,
 "nbformat_minor": 2
}
